{
 "cells": [
  {
   "cell_type": "code",
   "execution_count": 15,
   "id": "63b9fda5",
   "metadata": {},
   "outputs": [],
   "source": [
    "import pandas as pd\n"
   ]
  },
  {
   "cell_type": "code",
   "execution_count": 16,
   "id": "a70f514e",
   "metadata": {},
   "outputs": [
    {
     "data": {
      "text/html": [
       "<div>\n",
       "<style scoped>\n",
       "    .dataframe tbody tr th:only-of-type {\n",
       "        vertical-align: middle;\n",
       "    }\n",
       "\n",
       "    .dataframe tbody tr th {\n",
       "        vertical-align: top;\n",
       "    }\n",
       "\n",
       "    .dataframe thead th {\n",
       "        text-align: right;\n",
       "    }\n",
       "</style>\n",
       "<table border=\"1\" class=\"dataframe\">\n",
       "  <thead>\n",
       "    <tr style=\"text-align: right;\">\n",
       "      <th></th>\n",
       "      <th>order_id</th>\n",
       "      <th>order_datetime</th>\n",
       "      <th>day_of_week</th>\n",
       "      <th>is_weekend</th>\n",
       "      <th>is_holiday</th>\n",
       "      <th>holiday_name</th>\n",
       "      <th>num_pizzas</th>\n",
       "      <th>total_amount</th>\n",
       "      <th>distance_km</th>\n",
       "      <th>temperature_C</th>\n",
       "    </tr>\n",
       "  </thead>\n",
       "  <tbody>\n",
       "    <tr>\n",
       "      <th>0</th>\n",
       "      <td>1</td>\n",
       "      <td>2024-07-14 18:19:39</td>\n",
       "      <td>6</td>\n",
       "      <td>1</td>\n",
       "      <td>0</td>\n",
       "      <td>NaN</td>\n",
       "      <td>1</td>\n",
       "      <td>10.55</td>\n",
       "      <td>0.76</td>\n",
       "      <td>10.4</td>\n",
       "    </tr>\n",
       "    <tr>\n",
       "      <th>1</th>\n",
       "      <td>2</td>\n",
       "      <td>2024-08-11 20:21:22</td>\n",
       "      <td>6</td>\n",
       "      <td>1</td>\n",
       "      <td>0</td>\n",
       "      <td>NaN</td>\n",
       "      <td>3</td>\n",
       "      <td>26.85</td>\n",
       "      <td>3.38</td>\n",
       "      <td>7.4</td>\n",
       "    </tr>\n",
       "    <tr>\n",
       "      <th>2</th>\n",
       "      <td>3</td>\n",
       "      <td>2024-12-16 20:58:24</td>\n",
       "      <td>0</td>\n",
       "      <td>0</td>\n",
       "      <td>0</td>\n",
       "      <td>NaN</td>\n",
       "      <td>4</td>\n",
       "      <td>32.20</td>\n",
       "      <td>2.76</td>\n",
       "      <td>9.4</td>\n",
       "    </tr>\n",
       "    <tr>\n",
       "      <th>3</th>\n",
       "      <td>4</td>\n",
       "      <td>2024-12-26 11:51:36</td>\n",
       "      <td>3</td>\n",
       "      <td>0</td>\n",
       "      <td>1</td>\n",
       "      <td>Santo Stefano</td>\n",
       "      <td>4</td>\n",
       "      <td>32.24</td>\n",
       "      <td>3.26</td>\n",
       "      <td>13.5</td>\n",
       "    </tr>\n",
       "    <tr>\n",
       "      <th>4</th>\n",
       "      <td>5</td>\n",
       "      <td>2024-05-11 18:12:10</td>\n",
       "      <td>5</td>\n",
       "      <td>1</td>\n",
       "      <td>0</td>\n",
       "      <td>NaN</td>\n",
       "      <td>2</td>\n",
       "      <td>19.53</td>\n",
       "      <td>0.70</td>\n",
       "      <td>22.5</td>\n",
       "    </tr>\n",
       "  </tbody>\n",
       "</table>\n",
       "</div>"
      ],
      "text/plain": [
       "   order_id       order_datetime  day_of_week  is_weekend  is_holiday  \\\n",
       "0         1  2024-07-14 18:19:39            6           1           0   \n",
       "1         2  2024-08-11 20:21:22            6           1           0   \n",
       "2         3  2024-12-16 20:58:24            0           0           0   \n",
       "3         4  2024-12-26 11:51:36            3           0           1   \n",
       "4         5  2024-05-11 18:12:10            5           1           0   \n",
       "\n",
       "    holiday_name  num_pizzas  total_amount  distance_km  temperature_C  \n",
       "0            NaN           1         10.55         0.76           10.4  \n",
       "1            NaN           3         26.85         3.38            7.4  \n",
       "2            NaN           4         32.20         2.76            9.4  \n",
       "3  Santo Stefano           4         32.24         3.26           13.5  \n",
       "4            NaN           2         19.53         0.70           22.5  "
      ]
     },
     "execution_count": 16,
     "metadata": {},
     "output_type": "execute_result"
    }
   ],
   "source": [
    "df = pd.read_csv(r\"C:\\Users\\fabri\\Desktop\\my_repo\\env\\synthetic_orders.csv\")\n",
    "df.head()"
   ]
  },
  {
   "cell_type": "code",
   "execution_count": 17,
   "id": "125a2a7c",
   "metadata": {},
   "outputs": [
    {
     "name": "stdout",
     "output_type": "stream",
     "text": [
      "<class 'pandas.core.frame.DataFrame'>\n",
      "RangeIndex: 500000 entries, 0 to 499999\n",
      "Data columns (total 10 columns):\n",
      " #   Column          Non-Null Count   Dtype  \n",
      "---  ------          --------------   -----  \n",
      " 0   order_id        500000 non-null  int64  \n",
      " 1   order_datetime  500000 non-null  object \n",
      " 2   day_of_week     500000 non-null  int64  \n",
      " 3   is_weekend      500000 non-null  int64  \n",
      " 4   is_holiday      500000 non-null  int64  \n",
      " 5   holiday_name    48878 non-null   object \n",
      " 6   num_pizzas      500000 non-null  int64  \n",
      " 7   total_amount    500000 non-null  float64\n",
      " 8   distance_km     500000 non-null  float64\n",
      " 9   temperature_C   500000 non-null  float64\n",
      "dtypes: float64(3), int64(5), object(2)\n",
      "memory usage: 38.1+ MB\n"
     ]
    }
   ],
   "source": [
    "df.info()"
   ]
  },
  {
   "cell_type": "code",
   "execution_count": 18,
   "id": "1e783070",
   "metadata": {},
   "outputs": [],
   "source": [
    "df[\"order_datetime\"] = pd.to_datetime(df[\"order_datetime\"])"
   ]
  },
  {
   "cell_type": "code",
   "execution_count": 19,
   "id": "cdedcd1a",
   "metadata": {},
   "outputs": [],
   "source": [
    "# ordiniamo per indice di data\n",
    "df = df.sort_values(by=\"order_datetime\")\n",
    "\n"
   ]
  },
  {
   "cell_type": "code",
   "execution_count": 20,
   "id": "19473337",
   "metadata": {},
   "outputs": [
    {
     "data": {
      "text/html": [
       "<div>\n",
       "<style scoped>\n",
       "    .dataframe tbody tr th:only-of-type {\n",
       "        vertical-align: middle;\n",
       "    }\n",
       "\n",
       "    .dataframe tbody tr th {\n",
       "        vertical-align: top;\n",
       "    }\n",
       "\n",
       "    .dataframe thead th {\n",
       "        text-align: right;\n",
       "    }\n",
       "</style>\n",
       "<table border=\"1\" class=\"dataframe\">\n",
       "  <thead>\n",
       "    <tr style=\"text-align: right;\">\n",
       "      <th></th>\n",
       "      <th>order_id</th>\n",
       "      <th>order_datetime</th>\n",
       "      <th>day_of_week</th>\n",
       "      <th>is_weekend</th>\n",
       "      <th>is_holiday</th>\n",
       "      <th>holiday_name</th>\n",
       "      <th>num_pizzas</th>\n",
       "      <th>total_amount</th>\n",
       "      <th>distance_km</th>\n",
       "      <th>temperature_C</th>\n",
       "    </tr>\n",
       "  </thead>\n",
       "  <tbody>\n",
       "    <tr>\n",
       "      <th>132707</th>\n",
       "      <td>132708</td>\n",
       "      <td>2024-01-01 11:00:06</td>\n",
       "      <td>0</td>\n",
       "      <td>0</td>\n",
       "      <td>1</td>\n",
       "      <td>Capodanno</td>\n",
       "      <td>2</td>\n",
       "      <td>19.25</td>\n",
       "      <td>5.50</td>\n",
       "      <td>18.3</td>\n",
       "    </tr>\n",
       "    <tr>\n",
       "      <th>487812</th>\n",
       "      <td>487813</td>\n",
       "      <td>2024-01-01 11:00:18</td>\n",
       "      <td>0</td>\n",
       "      <td>0</td>\n",
       "      <td>1</td>\n",
       "      <td>Capodanno</td>\n",
       "      <td>3</td>\n",
       "      <td>33.58</td>\n",
       "      <td>6.64</td>\n",
       "      <td>13.6</td>\n",
       "    </tr>\n",
       "    <tr>\n",
       "      <th>471519</th>\n",
       "      <td>471520</td>\n",
       "      <td>2024-01-01 11:00:40</td>\n",
       "      <td>0</td>\n",
       "      <td>0</td>\n",
       "      <td>1</td>\n",
       "      <td>Capodanno</td>\n",
       "      <td>4</td>\n",
       "      <td>32.86</td>\n",
       "      <td>3.33</td>\n",
       "      <td>13.3</td>\n",
       "    </tr>\n",
       "    <tr>\n",
       "      <th>182075</th>\n",
       "      <td>182076</td>\n",
       "      <td>2024-01-01 11:01:22</td>\n",
       "      <td>0</td>\n",
       "      <td>0</td>\n",
       "      <td>1</td>\n",
       "      <td>Capodanno</td>\n",
       "      <td>3</td>\n",
       "      <td>22.95</td>\n",
       "      <td>0.48</td>\n",
       "      <td>16.0</td>\n",
       "    </tr>\n",
       "    <tr>\n",
       "      <th>422616</th>\n",
       "      <td>422617</td>\n",
       "      <td>2024-01-01 11:01:36</td>\n",
       "      <td>0</td>\n",
       "      <td>0</td>\n",
       "      <td>1</td>\n",
       "      <td>Capodanno</td>\n",
       "      <td>4</td>\n",
       "      <td>38.66</td>\n",
       "      <td>1.45</td>\n",
       "      <td>13.7</td>\n",
       "    </tr>\n",
       "  </tbody>\n",
       "</table>\n",
       "</div>"
      ],
      "text/plain": [
       "        order_id      order_datetime  day_of_week  is_weekend  is_holiday  \\\n",
       "132707    132708 2024-01-01 11:00:06            0           0           1   \n",
       "487812    487813 2024-01-01 11:00:18            0           0           1   \n",
       "471519    471520 2024-01-01 11:00:40            0           0           1   \n",
       "182075    182076 2024-01-01 11:01:22            0           0           1   \n",
       "422616    422617 2024-01-01 11:01:36            0           0           1   \n",
       "\n",
       "       holiday_name  num_pizzas  total_amount  distance_km  temperature_C  \n",
       "132707    Capodanno           2         19.25         5.50           18.3  \n",
       "487812    Capodanno           3         33.58         6.64           13.6  \n",
       "471519    Capodanno           4         32.86         3.33           13.3  \n",
       "182075    Capodanno           3         22.95         0.48           16.0  \n",
       "422616    Capodanno           4         38.66         1.45           13.7  "
      ]
     },
     "execution_count": 20,
     "metadata": {},
     "output_type": "execute_result"
    }
   ],
   "source": [
    "df.head()"
   ]
  },
  {
   "cell_type": "code",
   "execution_count": 21,
   "id": "b9e6aca7",
   "metadata": {},
   "outputs": [
    {
     "data": {
      "text/plain": [
       "order_id               0\n",
       "order_datetime         0\n",
       "day_of_week            0\n",
       "is_weekend             0\n",
       "is_holiday             0\n",
       "holiday_name      451122\n",
       "num_pizzas             0\n",
       "total_amount           0\n",
       "distance_km            0\n",
       "temperature_C          0\n",
       "dtype: int64"
      ]
     },
     "execution_count": 21,
     "metadata": {},
     "output_type": "execute_result"
    }
   ],
   "source": [
    "df.isna().sum()"
   ]
  },
  {
   "cell_type": "code",
   "execution_count": 22,
   "id": "f2ecd868",
   "metadata": {},
   "outputs": [],
   "source": [
    "# sostiuisco i valori nulli con \"No\"\n",
    "df.fillna(\"No\", inplace=True)"
   ]
  },
  {
   "cell_type": "code",
   "execution_count": 23,
   "id": "9fe1be10",
   "metadata": {},
   "outputs": [],
   "source": [
    "# salviamo dataset pulito\n",
    "df.to_csv(r\"C:\\Users\\fabri\\Desktop\\my_repo\\env\\synthetic_orders_clean.csv\", index=False)"
   ]
  },
  {
   "cell_type": "code",
   "execution_count": null,
   "id": "73a1be59",
   "metadata": {},
   "outputs": [],
   "source": []
  }
 ],
 "metadata": {
  "kernelspec": {
   "display_name": "env",
   "language": "python",
   "name": "python3"
  },
  "language_info": {
   "codemirror_mode": {
    "name": "ipython",
    "version": 3
   },
   "file_extension": ".py",
   "mimetype": "text/x-python",
   "name": "python",
   "nbconvert_exporter": "python",
   "pygments_lexer": "ipython3",
   "version": "3.13.3"
  }
 },
 "nbformat": 4,
 "nbformat_minor": 5
}
