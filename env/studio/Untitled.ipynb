{
 "cells": [
  {
   "cell_type": "code",
   "execution_count": 2,
   "id": "d1b0e051-46b0-49b6-a19c-8a766cf0f893",
   "metadata": {},
   "outputs": [],
   "source": [
    "import sys\n",
    "from pathlib import Path\n",
    "\n",
    "project_root = Path().resolve().parent\n",
    "sys.path.append(str(\"env/studio/src\"))"
   ]
  },
  {
   "cell_type": "code",
   "execution_count": 3,
   "id": "631504ae-5ac4-47b1-8e42-905634379810",
   "metadata": {},
   "outputs": [],
   "source": [
    "%load_ext autoreload\n",
    "%autoreload 2"
   ]
  },
  {
   "cell_type": "code",
   "execution_count": 9,
   "id": "8149743e-3a40-4813-8061-82f412b0846e",
   "metadata": {},
   "outputs": [
    {
     "ename": "ModuleNotFoundError",
     "evalue": "No module named 'untitled'",
     "output_type": "error",
     "traceback": [
      "\u001b[31m---------------------------------------------------------------------------\u001b[39m",
      "\u001b[31mModuleNotFoundError\u001b[39m                       Traceback (most recent call last)",
      "\u001b[36mCell\u001b[39m\u001b[36m \u001b[39m\u001b[32mIn[9]\u001b[39m\u001b[32m, line 1\u001b[39m\n\u001b[32m----> \u001b[39m\u001b[32m1\u001b[39m \u001b[38;5;28;01mimport\u001b[39;00m\u001b[38;5;250m \u001b[39m\u001b[34;01muntitled\u001b[39;00m\n\u001b[32m      2\u001b[39m untitled.somma(\u001b[32m1\u001b[39m,\u001b[32m2\u001b[39m)\n",
      "\u001b[31mModuleNotFoundError\u001b[39m: No module named 'untitled'"
     ]
    }
   ],
   "source": [
    "import untitled\n",
    "untitled.somma(1,2)"
   ]
  },
  {
   "cell_type": "code",
   "execution_count": null,
   "id": "6edc957e-69fa-4955-a4f8-dc8f9a615f4f",
   "metadata": {},
   "outputs": [],
   "source": []
  }
 ],
 "metadata": {
  "kernelspec": {
   "display_name": "Python 3 (ipykernel)",
   "language": "python",
   "name": "python3"
  },
  "language_info": {
   "codemirror_mode": {
    "name": "ipython",
    "version": 3
   },
   "file_extension": ".py",
   "mimetype": "text/x-python",
   "name": "python",
   "nbconvert_exporter": "python",
   "pygments_lexer": "ipython3",
   "version": "3.13.3"
  }
 },
 "nbformat": 4,
 "nbformat_minor": 5
}
